{
 "cells": [
  {
   "cell_type": "code",
   "execution_count": 19,
   "metadata": {},
   "outputs": [],
   "source": [
    "import os\n",
    "import numpy as np\n",
    "from sklearn.model_selection import train_test_split\n",
    "\n"
   ]
  },
  {
   "cell_type": "code",
   "execution_count": 20,
   "metadata": {},
   "outputs": [],
   "source": [
    "src_path = \"/mnt/c/Users/Alex Ossa/Downloads/dogs-vs-cats/\"\n"
   ]
  },
  {
   "cell_type": "code",
   "execution_count": 50,
   "metadata": {},
   "outputs": [],
   "source": [
    "files = os.listdir(os.path.join(src_path,\"train\"))\n"
   ]
  },
  {
   "cell_type": "code",
   "execution_count": 58,
   "metadata": {},
   "outputs": [
    {
     "name": "stdout",
     "output_type": "stream",
     "text": [
      "number of dog images = 12500\n",
      "number of cat images = 12500\n",
      "25000\n",
      "12500\n",
      "12500\n"
     ]
    }
   ],
   "source": [
    "\n",
    "def number_of_images(name_array):\n",
    "    if type(name_array) == list:\n",
    "        array_np = np.array(name_array)\n",
    "    elif type(files_np) == np.ndarray:\n",
    "        array_np = name_array \n",
    "    counts_dog = np.char.count(array_np, \"dog\") > 0\n",
    "    dog_array = array_np[counts_dog]\n",
    "    print(f\"number of dog images = {np.sum(counts_dog)}\")\n",
    "    counts_cat = np.char.count(array_np, \"cat\") > 0\n",
    "    cat_array = array_np[counts_cat]\n",
    "    print(f\"number of cat images = {np.sum(counts_cat)}\")\n",
    "    \n",
    "    return array_np, dog_array, cat_array\n",
    "    \n",
    "files_np, dog_array, cat_array = number_of_images(files)\n",
    "print(files_np.size)\n",
    "print(dog_array.size)\n",
    "print(cat_array.size)\n"
   ]
  },
  {
   "cell_type": "code",
   "execution_count": 62,
   "metadata": {},
   "outputs": [],
   "source": [
    "train_data, validation_data = train_test_split(files_np, train_size=0.8, random_state=42)\n"
   ]
  },
  {
   "cell_type": "code",
   "execution_count": 63,
   "metadata": {},
   "outputs": [
    {
     "name": "stdout",
     "output_type": "stream",
     "text": [
      "train data split\n",
      "number of dog images = 10015\n",
      "number of cat images = 9985\n",
      "validation data split\n",
      "number of dog images = 2485\n",
      "number of cat images = 2515\n"
     ]
    }
   ],
   "source": [
    "print(\"train data split\")\n",
    "train_data, dog_train_array, cat_train_array = number_of_images(train_data)\n",
    "print(\"validation data split\")\n",
    "validation_data, dog_validation_array, cat_validation_array = number_of_images(validation_data)"
   ]
  },
  {
   "cell_type": "code",
   "execution_count": 49,
   "metadata": {},
   "outputs": [],
   "source": [
    "import shutil\n",
    "\n",
    "source_dir = os.path.join(src_path, \"train/\")\n",
    "dog_destination_dir = os.path.join(source_dir, \"dogs/\")\n",
    "cat_destination_dir = os.path.join(source_dir, \"cats/\")"
   ]
  },
  {
   "cell_type": "code",
   "execution_count": 65,
   "metadata": {},
   "outputs": [
    {
     "data": {
      "text/plain": [
       "True"
      ]
     },
     "execution_count": 65,
     "metadata": {},
     "output_type": "execute_result"
    }
   ],
   "source": [
    "\"dog\" in train_data[0]"
   ]
  },
  {
   "cell_type": "markdown",
   "metadata": {},
   "source": []
  },
  {
   "cell_type": "code",
   "execution_count": 71,
   "metadata": {},
   "outputs": [],
   "source": [
    "os.makedirs(dog_destination_dir, exist_ok= True)\n",
    "os.makedirs(cat_destination_dir, exist_ok= True)\n",
    "\n",
    "# move files to /train path\n",
    "for file_name in train_data:\n",
    "    \n",
    "    source_path = os.path.join(source_dir, file_name)\n",
    "    if \"dog\" in file_name:\n",
    "        destination_path = os.path.join(dog_destination_dir, file_name)\n",
    "        if os.path.exists(source_path):\n",
    "            shutil.move(source_path, destination_path)\n",
    "    elif \"cat\" in file_name:\n",
    "        destination_path = os.path.join(cat_destination_dir, file_name)\n",
    "        if os.path.exists(source_path):\n",
    "            shutil.move(source_path, destination_path)\n",
    "    else:\n",
    "        print(\"not cat or dog into the file name\")\n",
    "\n",
    "# move files to /validation path\n",
    "\n",
    "source_dir = os.path.join(src_path, \"train/\")\n",
    "dog_destination_dir = os.path.join(src_path,\"validation/\"+\"dogs/\")\n",
    "cat_destination_dir = os.path.join(src_path,\"validation/\"+\"cats/\")   \n",
    "for file_name in validation_data:\n",
    "    \n",
    "    source_path = os.path.join(source_dir, file_name)\n",
    "    if \"dog\" in file_name:\n",
    "        destination_path = os.path.join(dog_destination_dir, file_name)\n",
    "        if os.path.exists(source_path):\n",
    "            shutil.move(source_path, destination_path)\n",
    "    elif \"cat\" in file_name:\n",
    "        destination_path = os.path.join(cat_destination_dir, file_name)\n",
    "        if os.path.exists(source_path):\n",
    "            shutil.move(source_path, destination_path)\n",
    "    else:\n",
    "        print(\"not cat or dog into the file name\")\n",
    "        "
   ]
  }
 ],
 "metadata": {
  "kernelspec": {
   "display_name": "cnn_dogs_cats",
   "language": "python",
   "name": "python3"
  },
  "language_info": {
   "codemirror_mode": {
    "name": "ipython",
    "version": 3
   },
   "file_extension": ".py",
   "mimetype": "text/x-python",
   "name": "python",
   "nbconvert_exporter": "python",
   "pygments_lexer": "ipython3",
   "version": "3.10.12"
  }
 },
 "nbformat": 4,
 "nbformat_minor": 2
}
